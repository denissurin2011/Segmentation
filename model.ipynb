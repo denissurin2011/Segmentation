{
  "nbformat": 4,
  "nbformat_minor": 0,
  "metadata": {
    "colab": {
      "name": "model.ipynb",
      "version": "0.3.2",
      "provenance": [],
      "include_colab_link": true
    },
    "language_info": {
      "codemirror_mode": {
        "name": "ipython",
        "version": 3
      },
      "file_extension": ".py",
      "mimetype": "text/x-python",
      "name": "python",
      "nbconvert_exporter": "python",
      "pygments_lexer": "ipython3",
      "version": "3.6.8"
    },
    "kernelspec": {
      "name": "python3",
      "display_name": "Python 3"
    },
    "accelerator": "GPU"
  },
  "cells": [
    {
      "cell_type": "markdown",
      "metadata": {
        "id": "view-in-github",
        "colab_type": "text"
      },
      "source": [
        "<a href=\"https://colab.research.google.com/github/denissurin2011/Segmentation/blob/master/model.ipynb\" target=\"_parent\"><img src=\"https://colab.research.google.com/assets/colab-badge.svg\" alt=\"Open In Colab\"/></a>"
      ]
    },
    {
      "metadata": {
        "id": "FvGK8JfQvYM1",
        "colab_type": "code",
        "colab": {},
        "cellView": "form"
      },
      "cell_type": "code",
      "source": [
        "#@title imports\n",
        "#!/usr/bin/python3\n",
        "from __future__ import print_function, absolute_import, division\n",
        "import os, glob, sys\n",
        "from skimage.io import imread, imshow, imsave\n",
        "from skimage import data, color\n",
        "from skimage.transform import rescale, resize, downscale_local_mean\n",
        "import numpy as np\n",
        "import matplotlib.pyplot as plt"
      ],
      "execution_count": 0,
      "outputs": []
    },
    {
      "metadata": {
        "id": "1iJSMlS4vYM7",
        "colab_type": "code",
        "colab": {},
        "cellView": "both"
      },
      "cell_type": "code",
      "source": [
        "# def getData(num_tests, start, type): \n",
        "\n",
        "#     if 'CITYSCAPES_DATASET' in os.environ:\n",
        "#         cityscapesPath = os.environ['CITYSCAPES_DATASET']\n",
        "#     else:\n",
        "#         cityscapesPath = os.path.join(os.path.dirname(os.path.realpath(__file__)), '..', '..')\n",
        "#     searchAnnotated = os.path.join(cityscapesPath, \"gtFine\", type, \"*\", \"*_gt*_labelTrain*\")\n",
        "#     searchRaw = os.path.join(cityscapesPath, \"x_test\", \"*\", \"*\")\n",
        "#     print(searchAnnotated)\n",
        "#     if not searchAnnotated:\n",
        "#        printError(\"Did not find any annotated files.\")\n",
        "#     filesAnnotated =glob.glob(searchAnnotated)\n",
        "  \n",
        "#     filesRaw=glob.glob(searchRaw)\n",
        "#     filesAnnotated.sort()\n",
        "#     filesRaw.sort()\n",
        "#     #print (len(filesAnnotated))\n",
        "#     return [], filesRaw[start:start+num_tests]\n",
        "  \n",
        "def getData(num_tests, start, type): ###new version\n",
        "\n",
        "    if 'CITYSCAPES_DATASET' in os.environ:\n",
        "        cityscapesPath = os.environ['CITYSCAPES_DATASET']\n",
        "    else:\n",
        "        cityscapesPath = os.path.join(os.path.dirname(os.path.realpath(__file__)), '..', '..')\n",
        "    searchAnnotated = os.path.join(cityscapesPath, \"gtFine\", type, \"*\", \"*_gt*_labelTrain*\")\n",
        "    searchRaw = os.path.join(cityscapesPath, \"x_test\", \"*\", \"*\")\n",
        "    \n",
        "    if not searchAnnotated:\n",
        "       printError(\"Did not find any annotated files.\")\n",
        "    filesAnnotated =glob.glob(searchAnnotated)\n",
        "  \n",
        "    filesRaw=glob.glob(searchRaw)\n",
        "    filesAnnotated.sort()\n",
        "    filesRaw.sort()\n",
        "    #print (len(filesAnnotated))\n",
        "    return [], filesRaw[start:start+num_tests]"
      ],
      "execution_count": 0,
      "outputs": []
    },
    {
      "metadata": {
        "id": "EMUh7wy9vYM-",
        "colab_type": "code",
        "colab": {},
        "cellView": "form"
      },
      "cell_type": "code",
      "source": [
        "#@title Upscale\n",
        "def UpscaleImg(img,scale, dims):\n",
        "    if dims:\n",
        "        new_img = np.zeros((img.shape[0]*scale,img.shape[1]*scale,3))\n",
        "        for i in range(img.shape[0]):\n",
        "            for j in range(img.shape[1]):\n",
        "                new_img[i*scale:(i+1)*scale,j*scale:(j+1)*scale,:]=img[i,j,:]\n",
        "    else:\n",
        "        new_img = np.zeros((img.shape[0] * scale, img.shape[1] * scale))\n",
        "        for i in range(img.shape[0]):\n",
        "            for j in range(img.shape[1]):\n",
        "                new_img[i * scale:(i + 1) * scale, j * scale:(j + 1) * scale] = img[i, j]\n",
        "    return new_img"
      ],
      "execution_count": 0,
      "outputs": []
    },
    {
      "metadata": {
        "id": "eBvjwHZXvYNC",
        "colab_type": "code",
        "colab": {},
        "cellView": "both"
      },
      "cell_type": "code",
      "source": [
        "#@title importBatch\n",
        "def importBatch(num_tests, start, verbose, type=\"train\", scale=1):   #load batch of data from train dataset\n",
        "\n",
        "    y_files, X_files = getData(num_tests,start, type)\n",
        "    print(X_files)\n",
        "    X_input = []\n",
        "    y_input = []\n",
        "   # if type=='val':\n",
        "    filenames = []\n",
        "    z = 0\n",
        "    for i in range(len(X_files)):\n",
        "\n",
        "        z+=1\n",
        "        if verbose:\n",
        "            if z % 100 == 0:\n",
        "                print('loaded files input - ', z)\n",
        "\n",
        "        X_file = X_files[i]\n",
        "        filenames.append(X_file[:-16])\n",
        "        X_img = imread(X_file)\n",
        "\n",
        "        if (scale != 0):\n",
        "            X_new = np.zeros((int(X_img.shape[0] / scale), int(X_img.shape[1] / scale),3))\n",
        "            k = 0\n",
        "            for x in X_img[::scale]:\n",
        "                X_new[k]=x[::scale]\n",
        "                k+=1\n",
        "                X_img = X_new\n",
        "        X_input.append(X_img)\n",
        "    z = 0\n",
        "    for i in range(len(y_files)):\n",
        "        z += 1\n",
        "        if verbose:\n",
        "            if z % 100 == 0:\n",
        "               print('loaded files output - ', z)\n",
        "\n",
        "        y_file = y_files[i]\n",
        "        y_img = imread(y_file)\n",
        "        if (scale != 0):\n",
        "            y_new = np.zeros((int(y_img.shape[0] / scale), int(y_img.shape[1] / scale)))\n",
        "            k = 0\n",
        "            for y in y_img[::scale]:\n",
        "                y_new[k] = y[::scale]\n",
        "                k += 1\n",
        "                y_img = y_new\n",
        "        y_input.append(y_img)\n",
        "\n",
        "\n",
        "    X = np.array(X_input)\n",
        "    y = np.array(y_input)\n",
        "    if (type=='val' or type=='test'):\n",
        "        return X,y, filenames\n",
        "    return X, y"
      ],
      "execution_count": 0,
      "outputs": []
    },
    {
      "metadata": {
        "id": "-EiKU6h2vYNE",
        "colab_type": "code",
        "colab": {},
        "cellView": "form"
      },
      "cell_type": "code",
      "source": [
        "#@title Defines\n",
        "IMG_SHAPE = (1024, 2048, 3)\n",
        "EPOCHS = 20\n",
        "BATCH_SIZE = 1\n",
        "TOTAL_SIZE = 200\n",
        "EPOCH_SIZE = int(TOTAL_SIZE / BATCH_SIZE)\n",
        "VAL_SIZE = 40\n",
        "SCALE_RATE = 1\n",
        "VERBOSE = 1\n",
        "START_INDEX = 0"
      ],
      "execution_count": 0,
      "outputs": []
    },
    {
      "metadata": {
        "id": "sC8riRMhvYNH",
        "colab_type": "code",
        "colab": {},
        "cellView": "form"
      },
      "cell_type": "code",
      "source": [
        "#@title imports\n",
        "import os, glob, sys\n",
        "import matplotlib.pyplot as plt\n",
        "import numpy as np\n",
        "import h5py\n",
        "import tensorflow as tf\n",
        "#%matplotlib inline\n",
        "import skimage\n",
        "from skimage.io import imread, imshow, imsave\n",
        "from tensorflow.python.keras.utils import to_categorical\n",
        "from tensorflow.python.keras.models import *\n",
        "from tensorflow.python.keras.layers import *\n",
        "from tensorflow.python.keras.optimizers import *\n",
        "from tensorflow.python.keras.callbacks import ModelCheckpoint, LearningRateScheduler\n",
        "import time\n",
        "import functools\n",
        "#from eval import *\n",
        "import random\n",
        "#%env CITYSCAPES_DATASET = /home/skim/data/\n",
        "from tensorflow.metrics import *\n",
        "#%load_ext autoreload\n",
        "#%autoreload 2"
      ],
      "execution_count": 0,
      "outputs": []
    },
    {
      "metadata": {
        "id": "YoZ12EaUvYNX",
        "colab_type": "code",
        "colab": {},
        "cellView": "form"
      },
      "cell_type": "code",
      "source": [
        "#@title tversky_loss\n",
        "def tversky_loss(y_true, y_pred):\n",
        "    alpha = 0.5\n",
        "    beta  = 0.5\n",
        "\n",
        "    ones = K.ones(K.shape(y_true))\n",
        "    p0 = y_pred      # proba that pixels are class i\n",
        "    p1 = ones - y_pred # proba that pixels are not class i\n",
        "    g0 = y_true\n",
        "    g1 = ones - y_true\n",
        "\n",
        "    num = K.sum(p0 * g0, (0, 1, 2))\n",
        "    den = num + alpha * K.sum(p0 * g1, (0, 1, 2)) + beta * K.sum(p1 * g0, (0, 1, 2)) + 1e-8\n",
        "\n",
        "    T = K.sum(num / den) # when summing over classes, T has dynamic range [0 Ncl]\n",
        "\n",
        "    classNumber = K.cast(K.shape(y_true)[-1], 'float32') ### equal classNumber = 20.0\n",
        "    return classNumber - T"
      ],
      "execution_count": 0,
      "outputs": []
    },
    {
      "metadata": {
        "id": "Oeo62XrSvYNa",
        "colab_type": "code",
        "colab": {},
        "cellView": "form"
      },
      "cell_type": "code",
      "source": [
        "#@title eval_model\n",
        "def eval_model(model):\n",
        "    x_pred = model.predict(x_val_data, verbose=VERBOSE)\n",
        "    new_x = np.argmax(x_pred, axis=3)\n",
        "    new_x = new_x.astype(int)\n",
        "    y_val = np.argmax(y_val_data, axis=3)\n",
        "    score = eval_preds(new_x, y_val)\n",
        "    return score"
      ],
      "execution_count": 0,
      "outputs": []
    },
    {
      "metadata": {
        "id": "Azcs9RPJvYNd",
        "colab_type": "code",
        "colab": {}
      },
      "cell_type": "code",
      "source": [
        "def default_code():\n",
        "  #xTest = \"../rvygon_data\"\n",
        "  output_dir = \"res\"\n",
        "  xTest, output_dir = sys.argv[1:]\n",
        "  os.environ['CITYSCAPES_DATASET'] = xTest\n",
        "  x_test, yyyyyy, filenames = importBatch(500, 0, 0, 'test', 1) \n",
        "  x_test = x_test.astype('uint8') \n",
        "  with tf.device('/cpu:0'): #device:GPU:1\n",
        "      config = tf.ConfigProto()\n",
        "      config.gpu_options.allow_growth = True\n",
        "      with tf.Session(config=config) as sess:\n",
        "          path_for_submit = 'program/unet_140epochs.hdf5'\n",
        "          path_for_local_testing = '/unet_140epochs.hdf5'\n",
        "          model = load_model(path_for_local_testing, custom_objects={'tversky_loss': tversky_loss})\n",
        "          #sess.run(tf.global_variables_initializer())\n",
        "          pred = model.predict(x_test, verbose=0)\n",
        "          pred = np.argmax(pred,axis=3).astype(int)\n",
        "          if not os.path.exists(output_dir):\n",
        "              os.makedirs(output_dir)\n",
        "          for i in range(len(filenames)): \n",
        "              impath = os.path.join(output_dir, filenames[i].split('/')[-1]+'_gtFine_labelIds.png')\n",
        "              imsave(impath, pred[i])"
      ],
      "execution_count": 0,
      "outputs": []
    },
    {
      "metadata": {
        "id": "kv-nldxiveMz",
        "colab_type": "code",
        "outputId": "cb158c21-cac3-4b2a-9562-83af8062c860",
        "colab": {
          "base_uri": "https://localhost:8080/",
          "height": 68
        }
      },
      "cell_type": "code",
      "source": [
        "xTest = '/Users/denissurin/Kursach/train data/train_data/x_train'\n",
        "os.environ['CITYSCAPES_DATASET'] = xTest\n",
        "x, y = importBatch(100, 0, 0, 'train', 1)"
      ],
      "execution_count": 43,
      "outputs": [
        {
          "output_type": "stream",
          "text": [
            "/Users/denissurin/Kursach/train data/train_data/x_train/gtFine/train/*/*_gt*_labelTrain*\n",
            "0\n",
            "[]\n"
          ],
          "name": "stdout"
        }
      ]
    },
    {
      "metadata": {
        "id": "VMS4jUvzCwbl",
        "colab_type": "code",
        "colab": {}
      },
      "cell_type": "code",
      "source": [
        "x = x.astype('uint8')"
      ],
      "execution_count": 0,
      "outputs": []
    },
    {
      "metadata": {
        "id": "rO1e-Md8Cxvp",
        "colab_type": "code",
        "colab": {
          "base_uri": "https://localhost:8080/",
          "height": 34
        },
        "outputId": "ca169498-d929-46b6-dba6-9184a10723ae"
      },
      "cell_type": "code",
      "source": [
        "x"
      ],
      "execution_count": 26,
      "outputs": [
        {
          "output_type": "execute_result",
          "data": {
            "text/plain": [
              "array([], dtype=uint8)"
            ]
          },
          "metadata": {
            "tags": []
          },
          "execution_count": 26
        }
      ]
    },
    {
      "metadata": {
        "id": "Pdpeq2BRC6Ef",
        "colab_type": "code",
        "colab": {}
      },
      "cell_type": "code",
      "source": [
        ""
      ],
      "execution_count": 0,
      "outputs": []
    }
  ]
}